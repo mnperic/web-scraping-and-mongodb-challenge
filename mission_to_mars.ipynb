{
 "cells": [
  {
   "cell_type": "code",
   "execution_count": 1,
   "id": "c5939309",
   "metadata": {},
   "outputs": [],
   "source": [
    "# Import dependencies and setup\n",
    "\n",
    "import pandas as pd\n",
    "from splinter import Browser\n",
    "from bs4 import BeautifulSoup\n",
    "from datetime import datetime\n",
    "import os\n",
    "import time"
   ]
  },
  {
   "cell_type": "code",
   "execution_count": null,
   "id": "e4267c66",
   "metadata": {},
   "outputs": [],
   "source": [
    "# Determine path to Chrome Driver & Initialise browser\n",
    "\n",
    "executable_path = {'executable_path': 'chromedriver.exe'}\n",
    "browser = Browser(\"chrome\", **executable_path, headless=False)"
   ]
  },
  {
   "cell_type": "code",
   "execution_count": null,
   "id": "bc8ac709",
   "metadata": {},
   "outputs": [],
   "source": [
    "# Set page to visit\n",
    "\n",
    "url = \"https://mars.nasa.gov/news/\"\n",
    "browser.visit(url)"
   ]
  },
  {
   "cell_type": "code",
   "execution_count": null,
   "id": "0e07af19",
   "metadata": {},
   "outputs": [],
   "source": [
    "# Use BeautifulSoup to write html\n",
    "\n",
    "html = browser.html\n",
    "soup = bs(html,\"html.parser\")"
   ]
  },
  {
   "cell_type": "code",
   "execution_count": null,
   "id": "a960a47d",
   "metadata": {},
   "outputs": [],
   "source": [
    "news_title = soup.find(\"div\", class_=\"content_title\").text\n",
    "news_p = soup.find(\"div\", class_=\"article_teaser_body\").text\n",
    "print(f\"Title: {news_title}\")\n",
    "print(f\"Para: {news_p}\")"
   ]
  },
  {
   "cell_type": "code",
   "execution_count": null,
   "id": "f5913e4d",
   "metadata": {},
   "outputs": [],
   "source": [
    "# Mars image\n",
    "\n",
    "url_image = \"https://www.jpl.nasa.gov/spaceimages/?search=&category=featured#submit\"\n",
    "browser.visit(url_image)"
   ]
  },
  {
   "cell_type": "code",
   "execution_count": null,
   "id": "7ccc527d",
   "metadata": {},
   "outputs": [],
   "source": [
    "from urllib.parse import urlsplit\n",
    "base_url = \"{0.scheme}://{0.netloc}/\".format(urlsplit(url_image))\n",
    "print(base_url)"
   ]
  },
  {
   "cell_type": "code",
   "execution_count": null,
   "id": "08dc2e02",
   "metadata": {},
   "outputs": [],
   "source": [
    "# Design an xpath selector to grab the image\n",
    "\n",
    "xpath = \"//*[@id=\\\"page\\\"]/section[3]/div/ul/li[1]/a/div/div[2]/img\""
   ]
  },
  {
   "cell_type": "code",
   "execution_count": null,
   "id": "64ffa152",
   "metadata": {},
   "outputs": [],
   "source": [
    "# Use splinter to click on the mars featured image to bring the full resolution image\n",
    "\n",
    "results = browser.find_by_xpath(xpath)\n",
    "image = results[0]\n",
    "image.click()"
   ]
  },
  {
   "cell_type": "code",
   "execution_count": null,
   "id": "2003a59b",
   "metadata": {},
   "outputs": [],
   "source": [
    "# Obtain image url using BeautifulSoup\n",
    "\n",
    "html_image = browser.html\n",
    "soup = bs(html_image, \"html.parser\")\n",
    "image_url = soup.find(\"img\", class_=\"fancybox-image\")[\"src\"]\n",
    "featured_image_url = base_url + image_url\n",
    "print(featured_image_url)"
   ]
  },
  {
   "cell_type": "code",
   "execution_count": null,
   "id": "6a14b7db",
   "metadata": {},
   "outputs": [],
   "source": [
    "# Obtain Mars weather's latest tweet from the website\n",
    "\n",
    "url_weather = \"https://twitter.com/marswxreport?lang=en\"\n",
    "browser.visit(url_weather)"
   ]
  },
  {
   "cell_type": "code",
   "execution_count": null,
   "id": "1b8ffbee",
   "metadata": {},
   "outputs": [],
   "source": [
    "html_weather = browser.html\n",
    "soup = bs(html_weather, \"html.parser\")\n",
    "mars_weather = soup.find(\"p\", class_=\"TweetTextSize TweetTextSize--normal js-tweet-text tweet-text\").text\n",
    "print(mars_weather)"
   ]
  },
  {
   "cell_type": "code",
   "execution_count": null,
   "id": "44acac10",
   "metadata": {},
   "outputs": [],
   "source": [
    "# Show Mars facts\n",
    "\n",
    "url_facts = \"https://space-facts.com/mars/\"\n",
    "table = pd.read_html(url_facts)\n",
    "table[0]"
   ]
  },
  {
   "cell_type": "code",
   "execution_count": null,
   "id": "91f60230",
   "metadata": {},
   "outputs": [],
   "source": [
    "mars_facts_df = table[0]\n",
    "mars_facts_df.columns = [\"Parameter\", \"Values\"]\n",
    "mars_facts_df.set_index([\"Parameter\"])"
   ]
  },
  {
   "cell_type": "code",
   "execution_count": null,
   "id": "1cb30804",
   "metadata": {},
   "outputs": [],
   "source": [
    "mars_html_table = mars_facts_df.to_html()\n",
    "mars_html_table = mars_html_table.replace(\"\\n\", \"\")\n",
    "mars_html_table"
   ]
  },
  {
   "cell_type": "code",
   "execution_count": null,
   "id": "3fa2ac8c",
   "metadata": {},
   "outputs": [],
   "source": [
    "# Mars Hemisphere\n",
    "\n",
    "url_hemisphere = \"https://astrogeology.usgs.gov/search/results?q=hemisphere+enhanced&k1=target&v1=Mars\"\n",
    "browser.visit(url_hemisphere)\n",
    "\n",
    "# Get base url\n",
    "\n",
    "hemisphere_base_url = \"{0.scheme}://{0.netloc}/\".format(urlsplit(url_hemisphere))\n",
    "print(hemisphere_base_url)"
   ]
  },
  {
   "cell_type": "code",
   "execution_count": null,
   "id": "0a43edd2",
   "metadata": {},
   "outputs": [],
   "source": [
    "# Hemisphere #1\n",
    "\n",
    "hemisphere_image_urls = []\n",
    "results_1 = browser.find_by_xpath( \"//*[@id='product-section']/div[2]/div[1]/a/img\").click()\n",
    "time.sleep(2)\n",
    "cerberus_open_click = browser.find_by_xpath( \"//*[@id='wide-image-toggle']\").click()\n",
    "time.sleep(1)\n",
    "cerberus_image = browser.html\n",
    "soup = bs(cerberus_image, \"html.parser\")\n",
    "cerberus_url = soup.find(\"img\", class_=\"wide-image\")[\"src\"]\n",
    "cerberus_image_url = hemisphere_base_url + cerberus_url\n",
    "print(cerberus_image_url)\n",
    "cerberus_title = beautiful_soup.find(\"h2\",class_=\"title\").text\n",
    "print(cerberus_title)\n",
    "back_button = browser.find_by_xpath(\"//*[@id='splashy']/div[1]/div[1]/div[3]/section/a\").click()\n",
    "cerberus = {\"image title\":cerberus_title, \"image url\": cerberus_image_url}\n",
    "hemisphere_image_urls.append(cerberus)"
   ]
  },
  {
   "cell_type": "code",
   "execution_count": null,
   "id": "d4febe46",
   "metadata": {},
   "outputs": [],
   "source": [
    "# Hemisphere #2\n",
    "\n",
    "results_2 = browser.find_by_xpath( \"//*[@id='product-section']/div[2]/div[2]/a/img\").click()\n",
    "time.sleep(2)\n",
    "schiaparelli_open_click = browser.find_by_xpath( \"//*[@id='wide-image-toggle']\").click()\n",
    "time.sleep(1)\n",
    "schiaparelli_image = browser.html\n",
    "soup = bs(schiaparelli_image, \"html.parser\")\n",
    "schiaparelli_url = soup.find(\"img\", class_=\"wide-image\")[\"src\"]\n",
    "schiaparelli_image_url = hemisphere_base_url + schiaparelli_url\n",
    "print(schiaparelli_image_url)\n",
    "schiaparelli_title = beautiful_soup.find(\"h2\",class_=\"title\").text\n",
    "print(schiaparelli_title)\n",
    "back_button = browser.find_by_xpath(\"//*[@id='splashy']/div[1]/div[1]/div[3]/section/a\").click()\n",
    "schiaparelli = {\"image title\":schiaparelli_title, \"image url\": schiaparelli_image_url}\n",
    "hemisphere_image_urls.append(schiaparelli)"
   ]
  },
  {
   "cell_type": "code",
   "execution_count": null,
   "id": "6c28da5c",
   "metadata": {},
   "outputs": [],
   "source": [
    "# Hemisphere #3\n",
    "\n",
    "results_3 = browser.find_by_xpath( \"//*[@id='product-section']/div[2]/div[3]/a/img\").click()\n",
    "time.sleep(2)\n",
    "syrtis_major_open_click = browser.find_by_xpath( \"//*[@id='wide-image-toggle']\").click()\n",
    "time.sleep(1)\n",
    "syrtis_major_image = browser.html\n",
    "soup = bs(syrtis_major_image, \"html.parser\")\n",
    "syrtis_major_url = soup.find(\"img\", class_=\"wide-image\")[\"src\"]\n",
    "syrtis_major_image_url = hemisphere_base_url + syrtis_major_url\n",
    "print(syrtis_major_image_url)\n",
    "syrtis_major_title = soup.find(\"h2\",class_=\"title\").text\n",
    "print(syrtis_major_title)\n",
    "back_button = browser.find_by_xpath(\"//*[@id='splashy']/div[1]/div[1]/div[3]/section/a\").click()\n",
    "syrtis_major = {\"image title\":syrtis_major_title, \"image url\": syrtis_major_image_url}\n",
    "hemisphere_image_urls.append(syrtis_major)"
   ]
  },
  {
   "cell_type": "code",
   "execution_count": null,
   "id": "16ce6c4f",
   "metadata": {},
   "outputs": [],
   "source": [
    "# Hemisphere #4\n",
    "\n",
    "results_4 = browser.find_by_xpath( \"//*[@id='product-section']/div[2]/div[4]/a/img\").click()\n",
    "time.sleep(2)\n",
    "valles_marineris_open_click = browser.find_by_xpath( \"//*[@id='wide-image-toggle']\").click()\n",
    "time.sleep(1)\n",
    "valles_marineris_image = browser.html\n",
    "soup = bs(valles_marineris_image, \"html.parser\")\n",
    "valles_marineris_url = soup.find(\"img\", class_=\"wide-image\")[\"src\"]\n",
    "valles_marineris_image_url = hemisphere_base_url + syrtis_major_url\n",
    "print(valles_marineris_image_url)\n",
    "valles_marineris_title = soup.find(\"h2\",class_=\"title\").text\n",
    "print(valles_marineris_title)\n",
    "back_button = browser.find_by_xpath(\"//*[@id='splashy']/div[1]/div[1]/div[3]/section/a\").click()\n",
    "valles_marineris = {\"image title\":valles_marineris_title, \"image url\": valles_marineris_image_url}\n",
    "hemisphere_image_urls.append(valles_marineris)"
   ]
  },
  {
   "cell_type": "code",
   "execution_count": null,
   "id": "2c94f7d1",
   "metadata": {},
   "outputs": [],
   "source": [
    "# Summary of hemispheres\n",
    "\n",
    "hemisphere_image_urls"
   ]
  }
 ],
 "metadata": {
  "kernelspec": {
   "display_name": "Python 3",
   "language": "python",
   "name": "python3"
  },
  "language_info": {
   "codemirror_mode": {
    "name": "ipython",
    "version": 3
   },
   "file_extension": ".py",
   "mimetype": "text/x-python",
   "name": "python",
   "nbconvert_exporter": "python",
   "pygments_lexer": "ipython3",
   "version": "3.8.8"
  }
 },
 "nbformat": 4,
 "nbformat_minor": 5
}
